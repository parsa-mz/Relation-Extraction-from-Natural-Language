{
 "cells": [
  {
   "cell_type": "code",
   "execution_count": null,
   "metadata": {},
   "outputs": [],
   "source": [
    "# Imports\n",
    "import torch\n",
    "import torch.nn as nn\n",
    "from torch.utils.data import Dataset, DataLoader\n",
    "\n",
    "import numpy as np\n",
    "import pandas as pd\n",
    "import re\n",
    "import scipy\n",
    "import matplotlib.pyplot as plt\n",
    "%matplotlib inline\n",
    "\n",
    "from sklearn.model_selection import train_test_split\n",
    "from sklearn.metrics import f1_score\n",
    "from sklearn.metrics import multilabel_confusion_matrix\n",
    "from sklearn.feature_extraction.text import TfidfVectorizer\n",
    "from sklearn.preprocessing import MultiLabelBinarizer\n",
    "\n",
    "mlb = MultiLabelBinarizer()\n",
    "\n",
    "from tqdm import tqdm\n",
    "\n",
    "from spacy.tokenizer import Tokenizer\n",
    "from spacy.lang.en import English"
   ]
  },
  {
   "cell_type": "code",
   "execution_count": 2,
   "metadata": {},
   "outputs": [
    {
     "ename": "NameError",
     "evalue": "name 'torch' is not defined",
     "output_type": "error",
     "traceback": [
      "\u001b[1;31m---------------------------------------------------------------------------\u001b[0m",
      "\u001b[1;31mNameError\u001b[0m                                 Traceback (most recent call last)",
      "Cell \u001b[1;32mIn [2], line 2\u001b[0m\n\u001b[0;32m      1\u001b[0m \u001b[39m# Set device = CUDA if available\u001b[39;00m\n\u001b[1;32m----> 2\u001b[0m device \u001b[39m=\u001b[39m \u001b[39m'\u001b[39m\u001b[39mcuda\u001b[39m\u001b[39m'\u001b[39m \u001b[39mif\u001b[39;00m torch\u001b[39m.\u001b[39mcuda\u001b[39m.\u001b[39mis_available() \u001b[39melse\u001b[39;00m \u001b[39m'\u001b[39m\u001b[39mcpu\u001b[39m\u001b[39m'\u001b[39m\n\u001b[0;32m      3\u001b[0m \u001b[39mprint\u001b[39m(\u001b[39m'\u001b[39m\u001b[39mDevice: \u001b[39m\u001b[39m'\u001b[39m, device)\n",
      "\u001b[1;31mNameError\u001b[0m: name 'torch' is not defined"
     ]
    }
   ],
   "source": [
    "# Set device = CUDA if available\n",
    "device = 'cuda' if torch.cuda.is_available() else 'cpu'\n",
    "print('Device: ', device)"
   ]
  },
  {
   "cell_type": "code",
   "execution_count": 3,
   "metadata": {},
   "outputs": [
    {
     "name": "stdout",
     "output_type": "stream",
     "text": [
      "Train Data count:  1849\n",
      "Validation Data count:  463\n",
      "Test Data count:  981\n"
     ]
    }
   ],
   "source": [
    "# Reading CSV File into Pandas DataFrame\n",
    "\n",
    "def read_data():\n",
    "    # read data\n",
    "    df = pd.read_csv('Data/hw1_train-1.csv', index_col=0)\n",
    "    df.columns = ['text', 'labels']\n",
    "    df['labels'] = df['labels'].str.replace('none', '')\n",
    "    df['labels'] = df['labels'].fillna('')\n",
    "\n",
    "    # Validating Set \n",
    "    train_df, val_df = train_test_split(\n",
    "        df,\n",
    "        random_state=0,\n",
    "        test_size=0.2,\n",
    "        shuffle=True)\n",
    "\n",
    "    # Reading Test Dataset into DataFrame\n",
    "    test_df = pd.read_csv('Data/hw1_test-2.csv', index_col=0)\n",
    "    test_df.columns = ['text']\n",
    "\n",
    "    return train_df, val_df, test_df\n",
    "\n",
    "\n",
    "# get data\n",
    "train_data, val_data, test_data = read_data()\n",
    "\n",
    "\n",
    "print('Train Data count: ', len(train_data))\n",
    "print('Validation Data count: ', len(val_data))\n",
    "print('Test Data count: ', len(test_data))\n"
   ]
  },
  {
   "cell_type": "code",
   "execution_count": 4,
   "metadata": {},
   "outputs": [
    {
     "name": "stdout",
     "output_type": "stream",
     "text": [
      "Label List:  [['movie.production_companies']\n",
      " ['movie.rating']\n",
      " ['movie.gross_revenue']\n",
      " ['movie.country']]\n",
      "Label Count Dictionary:  {'movie.produced_by': 145, 'movie.locations': 3, 'movie.country': 175, 'movie.language': 173, 'movie.genre': 106, 'movie.subjects': 76, 'movie.starring.actor': 282, 'movie.estimated_budget': 67, 'movie.initial_release_date': 152, 'movie.directed_by': 266, 'movie.rating': 172, 'movie.gross_revenue': 26, 'movie.production_companies': 80, 'movie.starring.character': 19, 'gr.amount': 4, 'actor.gender': 7, 'person.date_of_birth': 4, 'movie.music': 1}\n"
     ]
    }
   ],
   "source": [
    "# Create a set of Labels and a Dictionary to keep count of all labels\n",
    "label_set = set()\n",
    "label_count_dict = {}\n",
    "\n",
    "for index, row in train_data.iterrows():\n",
    "    temp = row['labels'].split()\n",
    "    for item in temp:\n",
    "        label_set.add(item)\n",
    "        label_count_dict[item] = label_count_dict.get(item, 0) + 1\n",
    "\n",
    "label_list = np.reshape(np.array(list(label_set)), (-1, 1))\n",
    "\n",
    "print('Label List: ', label_list[1:5])\n",
    "print('Label Count Dictionary: ', label_count_dict)"
   ]
  },
  {
   "cell_type": "code",
   "execution_count": 5,
   "metadata": {},
   "outputs": [
    {
     "name": "stdout",
     "output_type": "stream",
     "text": [
      "Id to Label Dictionary: \n",
      "0 actor.gender\n",
      "1 gr.amount\n",
      "2 movie.country\n",
      "3 movie.directed_by\n",
      "4 movie.estimated_budget\n",
      "5 movie.genre\n",
      "6 movie.gross_revenue\n",
      "7 movie.initial_release_date\n",
      "8 movie.language\n",
      "9 movie.locations\n",
      "10 movie.music\n",
      "11 movie.produced_by\n",
      "12 movie.production_companies\n",
      "13 movie.rating\n",
      "14 movie.starring.actor\n",
      "15 movie.starring.character\n",
      "16 movie.subjects\n",
      "17 person.date_of_birth\n"
     ]
    }
   ],
   "source": [
    "# Fit Multi-Label Binarizer to Label List\n",
    "mlb.fit(label_list)\n",
    "\n",
    "# Enumerate classes for Labels        \n",
    "id_to_label = {}\n",
    "for idx, label in enumerate(mlb.classes_):\n",
    "    id_to_label[idx] = label\n",
    "\n",
    "print('Id to Label Dictionary: ')\n",
    "_ = [print(idx, label) for idx, label in id_to_label.items()]"
   ]
  },
  {
   "cell_type": "code",
   "execution_count": 6,
   "metadata": {
    "scrolled": true
   },
   "outputs": [
    {
     "name": "stdout",
     "output_type": "stream",
     "text": [
      "Feature Names:  ['1000' '1000 words' '13' ... 'zombie movies' 'zombies' 'zombies in']\n"
     ]
    }
   ],
   "source": [
    "# Fit Tf-Idf Vectorizer to training text\n",
    "vectorizer = TfidfVectorizer(ngram_range=(1, 2), min_df=2)\n",
    "\n",
    "vectorizer.fit(train_data['text'])\n",
    "print('Feature Names: ', vectorizer.get_feature_names_out())\n",
    "\n",
    "\n",
    "def vectorize_to_tensor(text):\n",
    "    text_list = []\n",
    "    text_list.append(text)\n",
    "    # Return tensor of encoded text using TF-IDF\n",
    "    encoded = vectorizer.transform(text_list)\n",
    "    encoded_tensor = torch.tensor(scipy.sparse.csr_matrix.todense(encoded)).float()\n",
    "    return encoded_tensor"
   ]
  },
  {
   "cell_type": "code",
   "execution_count": 7,
   "metadata": {
    "id": "s2OsKlUseX_0"
   },
   "outputs": [],
   "source": [
    "# Relation Extraction Class for DataLoader\n",
    "class RE_Dataset(Dataset):\n",
    "\n",
    "    def __init__(self, data: pd.DataFrame):\n",
    "        self.data = data\n",
    "        self.text = self.data['text']\n",
    "        self.labels = self.data['labels']\n",
    "        self.stopwords = English.Defaults.stop_words\n",
    "        nlp = English()\n",
    "        self.tokenizer = Tokenizer(nlp.vocab)\n",
    "\n",
    "    def __len__(self):\n",
    "        return len(self.data)\n",
    "\n",
    "    def __getitem__(self, idx: int):\n",
    "        text = self.text.iloc[idx]\n",
    "        text = self.preprocess_text(self.text.iloc[idx])\n",
    "        label = self.labels.iloc[idx].split()\n",
    "        return self.encode_text(text), self.encode_label(label)\n",
    "\n",
    "    def encode_text(self, text: str):\n",
    "        return vectorize_to_tensor(text)\n",
    "\n",
    "    def encode_label(self, label: str):\n",
    "        # Convert label into NumPy matrix\n",
    "        label_array = np.array(label)\n",
    "        label_matrix = np.reshape(label_array,\n",
    "                                  (1, -1))\n",
    "        # Return tensor of encoded label using Multi-Label Binarizer\n",
    "        encoded = mlb.transform(label_matrix)\n",
    "        encoded_label = torch.from_numpy(encoded)\n",
    "        return encoded_label\n",
    "\n",
    "    def tokenize(self, text: str):\n",
    "        return [i.text for i in self.tokenizer(text)]\n",
    "\n",
    "    def stopword_removal(self, text: str):\n",
    "        corpus = []\n",
    "        for item in self.tokenize(text):\n",
    "            if item not in self.stopwords:\n",
    "                corpus.append(item)\n",
    "        corpus = ' '.join(corpus)\n",
    "        return corpus\n",
    "\n",
    "    def preprocess_text(self, text: str):\n",
    "        # Convert text to lowercase\n",
    "        text = text.lower()\n",
    "        # Removing text contractions\n",
    "        text = re.sub(r\"there's\", \"there is\", text)\n",
    "        text = re.sub(r\"that's\", \"that is\", text)\n",
    "        text = re.sub(r\"she's\", \"she is\", text)\n",
    "        text = re.sub(r\"he's\", \"he is\", text)\n",
    "        text = re.sub(r\"what's\", \"what is\", text)\n",
    "        text = re.sub(r\"where's\", \"where is\", text)\n",
    "        text = re.sub(r\"who's\", \"who is\", text)\n",
    "        text = re.sub(r\"you're\", \"you are\", text)\n",
    "        text = re.sub(r\"i'm\", \"i am\", text)\n",
    "        text = re.sub(r\"i'd\", \"i would\", text)\n",
    "        text = re.sub(r\"ain't\", \"am not\", text)\n",
    "        text = re.sub(r\"don't\", \"donot\", text)\n",
    "        text = re.sub(r\"can't\", \"cannot\", text)\n",
    "        text = re.sub(r\"could't\", \"could not\", text)\n",
    "        text = re.sub(r\"should'nt\", \"should not\", text)\n",
    "        text = re.sub(r\"won't\", \"will not\", text)\n",
    "        # Removing all punctuation\n",
    "        text = re.sub(r'[^\\w\\s]', '', text)\n",
    "        # Removing links\n",
    "        text = re.sub(r'http\\S+', '', text)\n",
    "        # Removing special characters and numbers\n",
    "        text = re.sub(r'[^A-Za-z0-9]+', ' ', text)\n",
    "        # Removing single characters\n",
    "        text = re.sub(r's+[a-zA-Z]s+', '', text)\n",
    "        # Removing stopwords\n",
    "        text = self.stopword_removal(text)\n",
    "        # Replacing multi-spaces by a single space\n",
    "        text = re.sub(r'\\s+', ' ', text)\n",
    "        return text"
   ]
  },
  {
   "cell_type": "code",
   "execution_count": 8,
   "metadata": {},
   "outputs": [],
   "source": [
    "# Relation Extraction Object for DataLoader\n",
    "train_ds = RE_Dataset(train_data)\n",
    "val_ds = RE_Dataset(val_data)"
   ]
  },
  {
   "cell_type": "code",
   "execution_count": 9,
   "metadata": {
    "scrolled": true
   },
   "outputs": [
    {
     "name": "stdout",
     "output_type": "stream",
     "text": [
      "Input(Features) Dimensions: 1642 \n",
      "Output Dimensions: 18\n"
     ]
    }
   ],
   "source": [
    "# PyTorch Data Loader\n",
    "train_loader = DataLoader(\n",
    "    train_ds, batch_size=16, shuffle=True\n",
    ")\n",
    "\n",
    "val_loader = DataLoader(\n",
    "    val_ds, batch_size=1, shuffle=True\n",
    ")\n",
    "\n",
    "\n",
    "torch.manual_seed(32)\n",
    "input_features_dim = train_ds[0][0].shape[1]\n",
    "output_dim = len(label_set)\n",
    "\n",
    "print('Input(Features) Dimensions: {} \\nOutput Dimensions: {}'.format(\n",
    "    input_features_dim, output_dim))\n"
   ]
  },
  {
   "cell_type": "markdown",
   "metadata": {},
   "source": [
    "#### Models\n",
    "\n",
    "Here we have couple of models that we've tried in the process of getting the best result."
   ]
  },
  {
   "cell_type": "code",
   "execution_count": 10,
   "metadata": {},
   "outputs": [],
   "source": [
    "# Multi-Layer Perceptron with 1 hidden layer\n",
    "class MLP(nn.Module):\n",
    "    def __init__(\n",
    "        self, \n",
    "        input_dim, \n",
    "        hidden_dim, \n",
    "        output_dim\n",
    "    ):\n",
    "        super().__init__()\n",
    "        self.fc1 = nn.Linear(input_dim, hidden_dim)\n",
    "        self.relu = nn.ReLU()\n",
    "        self.fc2 = nn.Linear(hidden_dim, output_dim)\n",
    "        self.sigmoid = torch.nn.Sigmoid()\n",
    "    \n",
    "    def forward(self, \n",
    "                x):\n",
    "        hidden = self.fc1(x)\n",
    "        relu = self.relu(hidden)\n",
    "        output = self.fc2(relu)\n",
    "        output = self.sigmoid(output)\n",
    "        return output  \n",
    "\n",
    "\n",
    "# Multi-Layer Perceptron with 2 hidden layers\n",
    "class MLP_2(nn.Module):\n",
    "    def __init__(\n",
    "        self, \n",
    "        input_dim, \n",
    "        hidden_dim_1,\n",
    "        hidden_dim_2,\n",
    "        output_dim\n",
    "    ):\n",
    "        super().__init__()\n",
    "        self.fc1 = nn.Linear(input_dim, hidden_dim_1)\n",
    "        self.relu = nn.ReLU()\n",
    "        self.fc2 = nn.Linear(hidden_dim_1, hidden_dim_2)\n",
    "        self.fc3 = nn.Linear(hidden_dim_2, output_dim)\n",
    "        self.sigmoid = torch.nn.Sigmoid()\n",
    "\n",
    "    def forward(self, \n",
    "                x):\n",
    "        hidden1 = self.fc1(x)\n",
    "        relu1 = self.relu(hidden1)\n",
    "        hidden2 = self.fc2(relu1)\n",
    "        relu2 = self.relu(hidden2)\n",
    "        hidden3 = self.fc3(relu2)\n",
    "        output = self.sigmoid(hidden3)\n",
    "        return output  \n",
    "\n",
    "\n",
    "# MLP model with 1 hidden layers and regularization using Dropout\n",
    "class MLP_Dropout_Leaky(nn.Module):\n",
    "    def __init__(\n",
    "        self, \n",
    "        input_dim, \n",
    "        hidden_dim,\n",
    "        output_dim\n",
    "    ):\n",
    "        super().__init__()\n",
    "        self.fc1 = nn.Linear(input_dim, hidden_dim)\n",
    "        self.relu = nn.LeakyReLU()\n",
    "        self.dropout = nn.Dropout(0.1)\n",
    "        self.fc2 = nn.Linear(hidden_dim, output_dim)\n",
    "        self.sigmoid = torch.nn.Sigmoid()\n",
    "    \n",
    "    def forward(self, \n",
    "                x):\n",
    "        hidden = self.fc1(x)\n",
    "        relu = self.relu(hidden)\n",
    "        dropout = self.dropout(relu)\n",
    "        output = self.fc2(dropout)\n",
    "        output = self.sigmoid(output)\n",
    "        return output\n",
    "    \n",
    "\n",
    "\n",
    "# MLP model with 3 hidden layers\n",
    "class MLP_3(nn.Module):\n",
    "    def __init__(\n",
    "        self, \n",
    "        input_dim, \n",
    "        hidden_dim_1,\n",
    "        hidden_dim_2,\n",
    "        hidden_dim_3,\n",
    "        output_dim\n",
    "    ):\n",
    "        super().__init__()\n",
    "        self.fc1 = nn.Linear(input_dim, hidden_dim_1)\n",
    "        self.relu = nn.ReLU()\n",
    "        self.fc2 = nn.Linear(hidden_dim_1, hidden_dim_2)\n",
    "        self.fc3 = nn.Linear(hidden_dim_2, hidden_dim_3)\n",
    "        self.fc4 = nn.Linear(hidden_dim_3, output_dim)\n",
    "        self.sigmoid = torch.nn.Sigmoid()\n",
    "\n",
    "    def forward(self, \n",
    "                x):\n",
    "        hidden1 = self.fc1(x)\n",
    "        relu1 = self.relu(hidden1)\n",
    "        hidden2 = self.fc2(relu1)\n",
    "        relu2 = self.relu(hidden2)\n",
    "        hidden3 = self.fc3(relu2)\n",
    "        relu3 = self.relu(hidden3)\n",
    "        hidden4 = self.fc4(relu3)\n",
    "        output = self.sigmoid(hidden4)\n",
    "        return output\n",
    "\n",
    "# Bi-LSTM with 1 hidden layer\n",
    "class BiLSTM(nn.Module):\n",
    "    def __init__(\n",
    "        self, \n",
    "        input_dim, \n",
    "        hidden_dim,\n",
    "        output_dim\n",
    "    ):\n",
    "        super().__init__()\n",
    "        self.lstm = nn.LSTM(input_dim, hidden_dim, bidirectional=True)\n",
    "        self.fc1 = nn.Linear(hidden_dim * 2, output_dim)\n",
    "        self.sigmoid = torch.nn.Sigmoid()\n",
    "\n",
    "    def forward(self, \n",
    "                x):\n",
    "        lstm_out, _ = self.lstm(x)\n",
    "        hidden1 = self.fc1(lstm_out)\n",
    "        output = self.sigmoid(hidden1)\n",
    "        return output\n",
    "\n",
    "\n",
    "# Bi-LSTM with 3 hidden layer\n",
    "class BiLSTM_3(nn.Module):\n",
    "    def __init__(\n",
    "        self, \n",
    "        input_dim, \n",
    "        hidden_dim_1,\n",
    "        hidden_dim_2,\n",
    "        hidden_dim_3,\n",
    "        output_dim\n",
    "    ):\n",
    "        super().__init__()\n",
    "        self.lstm = nn.LSTM(input_dim, hidden_dim_1, bidirectional=True)\n",
    "        self.relu = nn.ReLU()\n",
    "        self.fc1 = nn.Linear(hidden_dim_1 * 2, hidden_dim_2)\n",
    "        self.fc2 = nn.Linear(hidden_dim_2, hidden_dim_3)\n",
    "        self.fc3 = nn.Linear(hidden_dim_3, output_dim)\n",
    "        self.sigmoid = torch.nn.Sigmoid()\n",
    "\n",
    "    def forward(self, \n",
    "                x):\n",
    "        lstm_out, _ = self.lstm(x)\n",
    "        relu1 = self.relu(lstm_out)\n",
    "        hidden1 = self.fc1(relu1)\n",
    "        relu2 = self.relu(hidden1)\n",
    "        hidden2 = self.fc2(relu2)\n",
    "        relu3 = self.relu(hidden2)\n",
    "        hidden3 = self.fc3(relu3)\n",
    "        output = self.sigmoid(hidden3)\n",
    "        return output\n",
    "\n"
   ]
  },
  {
   "cell_type": "markdown",
   "metadata": {},
   "source": [
    "#### Model Selection"
   ]
  },
  {
   "cell_type": "code",
   "execution_count": 11,
   "metadata": {},
   "outputs": [
    {
     "name": "stdout",
     "output_type": "stream",
     "text": [
      "MLP(\n",
      "  (fc1): Linear(in_features=1642, out_features=50, bias=True)\n",
      "  (relu): ReLU()\n",
      "  (fc2): Linear(in_features=50, out_features=18, bias=True)\n",
      "  (sigmoid): Sigmoid()\n",
      ")\n"
     ]
    }
   ],
   "source": [
    "\n",
    "\n",
    "def get_model(choosen_model) -> nn.Module:\n",
    "\n",
    "    if choosen_model == 'mlp_2':\n",
    "        return MLP_2(\n",
    "            input_dim=input_features_dim, \n",
    "            hidden_dim_1=50,\n",
    "            hidden_dim_2=50,\n",
    "            output_dim=output_dim\n",
    "            ).to(device)\n",
    "    \n",
    "    elif choosen_model == 'mlp_1':\n",
    "        return MLP(\n",
    "            input_dim=input_features_dim, \n",
    "            hidden_dim=50,\n",
    "            output_dim=output_dim\n",
    "            ).to(device)\n",
    "\n",
    "\n",
    "    elif choosen_model == 'mlp_3':\n",
    "        return MLP_3(\n",
    "            input_dim=input_features_dim, \n",
    "            hidden_dim_1=50,\n",
    "            hidden_dim_2=50,\n",
    "            hidden_dim_3=50,\n",
    "            output_dim=output_dim\n",
    "            ).to(device)\n",
    "\n",
    "    elif choosen_model == 'mlp_dropout_leaky':\n",
    "        return MLP_Dropout_Leaky(\n",
    "            input_dim=input_features_dim, \n",
    "            hidden_dim=50,\n",
    "            output_dim=output_dim\n",
    "            ).to(device)\n",
    "    \n",
    "\n",
    "    elif choosen_model == 'bilstm':\n",
    "        return BiLSTM(\n",
    "            input_dim=input_features_dim,\n",
    "            hidden_dim=50,\n",
    "            output_dim=output_dim\n",
    "            ).to(device)\n",
    "\n",
    "    elif choosen_model == 'bilstm_3':\n",
    "        return BiLSTM_3(\n",
    "            input_dim=input_features_dim, \n",
    "            hidden_dim_1=50,\n",
    "            hidden_dim_2=50,\n",
    "            hidden_dim_3=50,\n",
    "            output_dim=output_dim\n",
    "            ).to(device)\n",
    "\n",
    "\n",
    "\n",
    "# Options: mlp_1, mlp_2, mlp_3, mlp_dropout_leaky, bilstm, bilstm_3\n",
    "choosen_model = 'mlp_1'\n",
    "model = get_model(choosen_model)\n",
    "\n",
    "print(model)"
   ]
  },
  {
   "cell_type": "code",
   "execution_count": 12,
   "metadata": {},
   "outputs": [],
   "source": [
    "# Model Train Function\n",
    "def train(loader, model, optimizer, loss_function):\n",
    "\n",
    "    model.train()\n",
    "    losses = []\n",
    "    for batch in tqdm(loader):\n",
    "        x, y = batch\n",
    "\n",
    "        optimizer.zero_grad()\n",
    "        \n",
    "        y_pred = model(x)\n",
    "        y = y.squeeze().to(torch.float32)\n",
    "        y_pred = y_pred.squeeze().to(torch.float32)\n",
    "        \n",
    "        loss = loss_function(y_pred, y)\n",
    "        loss.backward()\n",
    "        optimizer.step()\n",
    "        \n",
    "        losses.append(loss.item())\n",
    "    \n",
    "    return sum(losses) / len(losses)\n",
    "\n",
    "\n",
    "# Model Evaluate Function\n",
    "def evaluate(loader, model, loss_function, score_function):\n",
    "\n",
    "    model.eval()\n",
    "    predictions, labels, losses = [], [], []\n",
    "    \n",
    "    for batch in tqdm(loader):\n",
    "        x, y = batch\n",
    "\n",
    "        y_pred = model(x)\n",
    "        y_pred = torch.round(y_pred)\n",
    "\n",
    "        y = y.squeeze().to(torch.float32)\n",
    "        y_pred = y_pred.squeeze().to(torch.float32)\n",
    "\n",
    "        \n",
    "        loss = loss_function(y_pred, y)\n",
    "        losses.append(loss.item())\n",
    "\n",
    "        y = y.detach().numpy()\n",
    "        y_pred = y_pred.detach().numpy()\n",
    "\n",
    "        labels.append(y)\n",
    "        predictions.append(y_pred)\n",
    "\n",
    "    score = score_function(labels, predictions, average='samples', zero_division=1)\n",
    "    return labels, predictions, sum(losses) / len(losses), score"
   ]
  },
  {
   "cell_type": "code",
   "execution_count": 13,
   "metadata": {},
   "outputs": [
    {
     "name": "stdout",
     "output_type": "stream",
     "text": [
      "---------- \n",
      "Epoch 1/10\n"
     ]
    },
    {
     "name": "stderr",
     "output_type": "stream",
     "text": [
      "100%|██████████| 116/116 [00:02<00:00, 53.12it/s]\n"
     ]
    },
    {
     "name": "stdout",
     "output_type": "stream",
     "text": [
      "Train loss 0.16047381850537554\n"
     ]
    },
    {
     "name": "stderr",
     "output_type": "stream",
     "text": [
      "100%|██████████| 463/463 [00:00<00:00, 705.85it/s]\n"
     ]
    },
    {
     "name": "stdout",
     "output_type": "stream",
     "text": [
      "Score: 0.7140 \t Validation loss 2.1718\n",
      "---------- \n",
      "Epoch 2/10\n"
     ]
    },
    {
     "name": "stderr",
     "output_type": "stream",
     "text": [
      "100%|██████████| 116/116 [00:02<00:00, 39.59it/s]\n"
     ]
    },
    {
     "name": "stdout",
     "output_type": "stream",
     "text": [
      "Train loss 0.04028658630278219\n"
     ]
    },
    {
     "name": "stderr",
     "output_type": "stream",
     "text": [
      "100%|██████████| 463/463 [00:00<00:00, 590.70it/s]\n"
     ]
    },
    {
     "name": "stdout",
     "output_type": "stream",
     "text": [
      "Score: 0.7526 \t Validation loss 2.0758\n",
      "---------- \n",
      "Epoch 3/10\n"
     ]
    },
    {
     "name": "stderr",
     "output_type": "stream",
     "text": [
      "100%|██████████| 116/116 [00:02<00:00, 42.64it/s]\n"
     ]
    },
    {
     "name": "stdout",
     "output_type": "stream",
     "text": [
      "Train loss 0.02525667998747065\n"
     ]
    },
    {
     "name": "stderr",
     "output_type": "stream",
     "text": [
      "100%|██████████| 463/463 [00:00<00:00, 535.34it/s]\n"
     ]
    },
    {
     "name": "stdout",
     "output_type": "stream",
     "text": [
      "Score: 0.7633 \t Validation loss 2.0038\n",
      "---------- \n",
      "Epoch 4/10\n"
     ]
    },
    {
     "name": "stderr",
     "output_type": "stream",
     "text": [
      "100%|██████████| 116/116 [00:02<00:00, 52.64it/s]\n"
     ]
    },
    {
     "name": "stdout",
     "output_type": "stream",
     "text": [
      "Train loss 0.02114677535980169\n"
     ]
    },
    {
     "name": "stderr",
     "output_type": "stream",
     "text": [
      "100%|██████████| 463/463 [00:00<00:00, 613.95it/s]\n"
     ]
    },
    {
     "name": "stdout",
     "output_type": "stream",
     "text": [
      "Score: 0.7708 \t Validation loss 2.1598\n",
      "---------- \n",
      "Epoch 5/10\n"
     ]
    },
    {
     "name": "stderr",
     "output_type": "stream",
     "text": [
      "100%|██████████| 116/116 [00:03<00:00, 34.96it/s]\n"
     ]
    },
    {
     "name": "stdout",
     "output_type": "stream",
     "text": [
      "Train loss 0.01698592515032064\n"
     ]
    },
    {
     "name": "stderr",
     "output_type": "stream",
     "text": [
      "100%|██████████| 463/463 [00:01<00:00, 360.89it/s]\n"
     ]
    },
    {
     "name": "stdout",
     "output_type": "stream",
     "text": [
      "Score: 0.7442 \t Validation loss 2.1958\n",
      "---------- \n",
      "Epoch 6/10\n"
     ]
    },
    {
     "name": "stderr",
     "output_type": "stream",
     "text": [
      "100%|██████████| 116/116 [00:03<00:00, 29.88it/s]\n"
     ]
    },
    {
     "name": "stdout",
     "output_type": "stream",
     "text": [
      "Train loss 0.01604229362946453\n"
     ]
    },
    {
     "name": "stderr",
     "output_type": "stream",
     "text": [
      "100%|██████████| 463/463 [00:01<00:00, 435.25it/s]\n"
     ]
    },
    {
     "name": "stdout",
     "output_type": "stream",
     "text": [
      "Score: 0.7510 \t Validation loss 1.9918\n",
      "---------- \n",
      "Epoch 7/10\n"
     ]
    },
    {
     "name": "stderr",
     "output_type": "stream",
     "text": [
      "100%|██████████| 116/116 [00:02<00:00, 48.19it/s]\n"
     ]
    },
    {
     "name": "stdout",
     "output_type": "stream",
     "text": [
      "Train loss 0.01536664993006431\n"
     ]
    },
    {
     "name": "stderr",
     "output_type": "stream",
     "text": [
      "100%|██████████| 463/463 [00:00<00:00, 561.76it/s]\n"
     ]
    },
    {
     "name": "stdout",
     "output_type": "stream",
     "text": [
      "Score: 0.7629 \t Validation loss 2.1238\n",
      "---------- \n",
      "Epoch 8/10\n"
     ]
    },
    {
     "name": "stderr",
     "output_type": "stream",
     "text": [
      "100%|██████████| 116/116 [00:02<00:00, 46.22it/s]\n"
     ]
    },
    {
     "name": "stdout",
     "output_type": "stream",
     "text": [
      "Train loss 0.014144454873217157\n"
     ]
    },
    {
     "name": "stderr",
     "output_type": "stream",
     "text": [
      "100%|██████████| 463/463 [00:00<00:00, 640.31it/s]\n"
     ]
    },
    {
     "name": "stdout",
     "output_type": "stream",
     "text": [
      "Score: 0.7521 \t Validation loss 2.1358\n",
      "---------- \n",
      "Epoch 9/10\n"
     ]
    },
    {
     "name": "stderr",
     "output_type": "stream",
     "text": [
      "100%|██████████| 116/116 [00:02<00:00, 45.92it/s]\n"
     ]
    },
    {
     "name": "stdout",
     "output_type": "stream",
     "text": [
      "Train loss 0.01267899190961857\n"
     ]
    },
    {
     "name": "stderr",
     "output_type": "stream",
     "text": [
      "100%|██████████| 463/463 [00:00<00:00, 561.53it/s]\n"
     ]
    },
    {
     "name": "stdout",
     "output_type": "stream",
     "text": [
      "Score: 0.7467 \t Validation loss 2.2198\n",
      "---------- \n",
      "Epoch 10/10\n"
     ]
    },
    {
     "name": "stderr",
     "output_type": "stream",
     "text": [
      "100%|██████████| 116/116 [00:02<00:00, 48.48it/s]\n"
     ]
    },
    {
     "name": "stdout",
     "output_type": "stream",
     "text": [
      "Train loss 0.01353183819515709\n"
     ]
    },
    {
     "name": "stderr",
     "output_type": "stream",
     "text": [
      "100%|██████████| 463/463 [00:00<00:00, 659.63it/s]"
     ]
    },
    {
     "name": "stdout",
     "output_type": "stream",
     "text": [
      "Score: 0.7568 \t Validation loss 2.1598\n",
      "Best F1 Score: 0.7708\n"
     ]
    },
    {
     "name": "stderr",
     "output_type": "stream",
     "text": [
      "\n"
     ]
    }
   ],
   "source": [
    "# Model Training on Train dataset and Evaluation on Validation dataset\n",
    "\n",
    "def evaluate_model(model, train_loader, val_loader, optimizer, loss, score, model_name, epochs=10):\n",
    "    best_acc = 0\n",
    "    train_losses, val_losses, val_scores = [], [], []\n",
    "    for epoch in range(epochs):\n",
    "        print(f'---------- \\nEpoch {epoch + 1}/{epochs}')\n",
    "\n",
    "        train_loss = train(train_loader, model, optimizer, loss)\n",
    "        print(f'Train loss {train_loss}')\n",
    "        train_losses.append(train_loss)\n",
    "\n",
    "        labels, predictions, val_loss, val_score = evaluate(val_loader, model, loss, score)\n",
    "        print('Score: {:0.4f} \\t Validation loss {:0.4f}'.format(val_score, val_loss))\n",
    "        val_losses.append(val_loss)\n",
    "        val_scores.append(val_score)\n",
    "\n",
    "        # Save model if Validation F1_Score is greather than 75%\n",
    "        if val_score > 0.75 and val_score > best_acc:\n",
    "        \n",
    "            torch.save(model.state_dict(), model_name)\n",
    "            cm = multilabel_confusion_matrix(labels, predictions)\n",
    "\n",
    "    return train_losses, val_losses, val_scores\n",
    "\n",
    "\n",
    "\n",
    "optimizer = torch.optim.Adam(model.parameters(), lr=0.04)\n",
    "loss_func = nn.BCELoss()\n",
    "score_func = f1_score\n",
    "\n",
    "n_epochs = 10\n",
    "model_name = 'best_model.pt'\n",
    "\n",
    "train_loss_list, val_loss_list, f1_score_list = evaluate_model(\n",
    "    model=model,\n",
    "    train_loader=train_loader,\n",
    "    val_loader=val_loader,\n",
    "    optimizer=optimizer,\n",
    "    loss=loss_func,\n",
    "    score=score_func,\n",
    "    model_name=model_name,\n",
    "    epochs=n_epochs\n",
    "    )\n",
    "\n",
    "print('Best F1 Score: {:0.4f}'.format(max(f1_score_list)))"
   ]
  },
  {
   "cell_type": "code",
   "execution_count": 14,
   "metadata": {},
   "outputs": [
    {
     "data": {
      "image/png": "[encoded data removed]",
      "text/plain": [
       "<Figure size 640x480 with 1 Axes>"
      ]
     },
     "metadata": {},
     "output_type": "display_data"
    },
    {
     "data": {
      "image/png": "[encoded data removed]",
      "text/plain": [
       "<Figure size 640x480 with 1 Axes>"
      ]
     },
     "metadata": {},
     "output_type": "display_data"
    }
   ],
   "source": [
    "# Training vs Validation Loss Plot\n",
    "epochs = np.arange(0, n_epochs)\n",
    "# print('Train Loss: ', train_loss_list)\n",
    "# print('Val Loss: ', val_loss_list)\n",
    "\n",
    "plt.style.use('ggplot')\n",
    "plt.plot(epochs, train_loss_list, label=\"Training Loss\", color=\"red\", linewidth='3')\n",
    "plt.plot(epochs, val_loss_list, label=\"Validation Loss\", color=\"green\", linewidth='3')\n",
    "plt.xlabel('Epoch')\n",
    "plt.ylabel('Loss')\n",
    "plt.title('Training Loss vs Validation Loss', color='black')\n",
    "plt.legend(shadow=True, labelcolor='black')\n",
    "plt.show()\n",
    "\n",
    "# Validation Accuracy Plot\n",
    "plt.plot(epochs, f1_score_list, color='blue', linewidth='5')\n",
    "plt.xlabel('Epoch')\n",
    "plt.ylabel('F1_Score')\n",
    "plt.title('Validation Accuracy', color='black')\n",
    "plt.show()"
   ]
  },
  {
   "cell_type": "markdown",
   "metadata": {},
   "source": [
    "Load Model"
   ]
  },
  {
   "cell_type": "code",
   "execution_count": 15,
   "metadata": {},
   "outputs": [
    {
     "data": {
      "text/plain": [
       "MLP(\n",
       "  (fc1): Linear(in_features=1642, out_features=50, bias=True)\n",
       "  (relu): ReLU()\n",
       "  (fc2): Linear(in_features=50, out_features=18, bias=True)\n",
       "  (sigmoid): Sigmoid()\n",
       ")"
      ]
     },
     "execution_count": 15,
     "metadata": {},
     "output_type": "execute_result"
    }
   ],
   "source": [
    "# load model \n",
    "\n",
    "saved_model = get_model(choosen_model)\n",
    "\n",
    "saved_model.load_state_dict(torch.load(model_name))\n",
    "saved_model.eval()"
   ]
  },
  {
   "cell_type": "markdown",
   "metadata": {},
   "source": [
    "Predict relations"
   ]
  },
  {
   "cell_type": "code",
   "execution_count": 16,
   "metadata": {},
   "outputs": [
    {
     "name": "stdout",
     "output_type": "stream",
     "text": [
      "      ID                                     UTTERANCEs\n",
      "0      0                           movie.starring.actor\n",
      "1      1                                               \n",
      "2      2                           movie.starring.actor\n",
      "3      3                                               \n",
      "4      4                                               \n",
      "..   ...                                            ...\n",
      "976  976  movie.starring.actor movie.starring.character\n",
      "977  977                           movie.starring.actor\n",
      "978  978                                               \n",
      "979  979                              movie.directed_by\n",
      "980  980                                  movie.country\n",
      "\n",
      "[981 rows x 2 columns]\n"
     ]
    }
   ],
   "source": [
    "\n",
    "# Use loaded Model for Predictions\n",
    "label_tensors = []\n",
    "label_id = []\n",
    "with torch.no_grad():\n",
    "    for index, row in test_data.iterrows():\n",
    "        text_tensor = vectorize_to_tensor(row.to_string())\n",
    "        \n",
    "        # Using Forward Pass of MLP for Predictions\n",
    "        label_tensor = model.forward(text_tensor)\n",
    "        label_tensor_round = torch.round(label_tensor)\n",
    "        label_tensors.append(label_tensor_round)\n",
    "        \n",
    "        # Use Inverse_Transform function in MultiLabelBinarizer to get label names\n",
    "        label_id.append(mlb.inverse_transform(label_tensor_round))\n",
    "\n",
    "\n",
    "relations = []\n",
    "for i in range(0, len(label_id)):\n",
    "    pred_labels = list(label_id[i][0])\n",
    "    d = {\n",
    "        \"ID\": i,\n",
    "        \"UTTERANCEs\": ' '.join(pred_labels)\n",
    "    }\n",
    "    relations.append(d)\n",
    "\n",
    "\n",
    "labels_df = pd.DataFrame.from_dict(relations)\n",
    "labels_df.to_csv('submission_labels.csv', index=False)\n",
    "\n",
    "print(labels_df)"
   ]
  }
 ],
 "metadata": {
  "colab": {
   "collapsed_sections": [],
   "provenance": []
  },
  "kernelspec": {
   "display_name": "Python 3.10.8 64-bit",
   "language": "python",
   "name": "python3"
  },
  "language_info": {
   "codemirror_mode": {
    "name": "ipython",
    "version": 3
   },
   "file_extension": ".py",
   "mimetype": "text/x-python",
   "name": "python",
   "nbconvert_exporter": "python",
   "pygments_lexer": "ipython3",
   "version": "3.10.8 (tags/v3.10.8:aaaf517, Oct 11 2022, 16:50:30) [MSC v.1933 64 bit (AMD64)]"
  },
  "vscode": {
   "interpreter": {
    "hash": "cf2bb1958d672d527ce4f3a9f9fc703b104177b8e1b2737f048608de66e33430"
   }
  }
 },
 "nbformat": 4,
 "nbformat_minor": 1
}
